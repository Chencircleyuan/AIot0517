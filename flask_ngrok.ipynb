{
 "cells": [
  {
   "cell_type": "code",
   "execution_count": null,
   "metadata": {},
   "outputs": [],
   "source": [
    "\n",
    "#run in colab\n",
    "https://colab.research.google.com/github/huanchen1107/0517/blob/main/flask_ngrok_example.ipynb\n",
    "\n",
    "!pip install flask-ngrok # check\n",
    "!pip install flask==0.12.2  # Newer versions of flask don't work in Colab\n",
    "!pip install pyngrok==4.1.1\n",
    "!ngrok authtoken '<your-key-here>'\n",
    "# See https://github.com/plotly/dash/issues/257"
   ]
  }
 ],
 "metadata": {
  "language_info": {
   "name": "python"
  },
  "orig_nbformat": 4
 },
 "nbformat": 4,
 "nbformat_minor": 2
}
